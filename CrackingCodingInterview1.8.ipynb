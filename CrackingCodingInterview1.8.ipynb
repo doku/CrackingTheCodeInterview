{
 "cells": [
  {
   "cell_type": "markdown",
   "metadata": {},
   "source": [
    "5th ed. 1.8 Assume you have a method isSubstring which checks if one word is a substring of another. Given two strings, si and s2, write code to check if s2 is a rotation of si using only one call to isSubstring (e.g.,\"waterbottle\"is a rotation of \"erbottlewat\")."
   ]
  },
  {
   "cell_type": "code",
   "execution_count": 9,
   "metadata": {
    "collapsed": false
   },
   "outputs": [
    {
     "name": "stdout",
     "output_type": "stream",
     "text": [
      "waterbottle erbottlewat\n",
      "True\n",
      "abcdefghijklmnopqrstuvwxyz jklmnopqrstuvwxyzabcdefghi\n",
      "True\n",
      "Jason Wang WangJason \n",
      "True\n",
      "asdfasdgasd asdgasdg\n",
      "False\n",
      "waterbottle bottlewater\n",
      "True\n",
      "waterbottle bottleeeeee\n",
      "False\n"
     ]
    }
   ],
   "source": [
    "def isSub(s1, s2):\n",
    "    if s1 in s2:\n",
    "        return True\n",
    "    else:\n",
    "        return False\n",
    "    \n",
    "def isrot(s1, s2):\n",
    "    print(s1, s2)\n",
    "    if len(s1) != len(s2): #first check if the string is the same length\n",
    "        return False\n",
    "    if str(sorted(s1)) != str(sorted(s2)): # check if sorted string is the same characters, requirement if it's rotation\n",
    "        return False\n",
    "    ind = s1.find(s2[0]) # find the index of the first character in the second string in the first string.\n",
    "    if isSub(s1[ind:], s2): # If the substring from index to the end is not a substring, then it's not rotaion.\n",
    "        return True\n",
    "    print(s1, s2)\n",
    "\n",
    "tests = [(\"waterbottle\", \"erbottlewat\"),\n",
    "        (\"abcdefghijklmnopqrstuvwxyz\", \"jklmnopqrstuvwxyzabcdefghi\"),\n",
    "        (\"Jason Wang\", \"WangJason \"),\n",
    "        (\"asdfasdgasd\", \"asdgasdg\"),\n",
    "        (\"waterbottle\", \"bottlewater\"),\n",
    "        (\"waterbottle\", \"bottleeeeee\")]\n",
    "\n",
    "for i in tests:\n",
    "    print(isrot(*i))"
   ]
  },
  {
   "cell_type": "code",
   "execution_count": null,
   "metadata": {
    "collapsed": true
   },
   "outputs": [],
   "source": []
  }
 ],
 "metadata": {
  "kernelspec": {
   "display_name": "Python 3",
   "language": "python",
   "name": "python3"
  },
  "language_info": {
   "codemirror_mode": {
    "name": "ipython",
    "version": 3
   },
   "file_extension": ".py",
   "mimetype": "text/x-python",
   "name": "python",
   "nbconvert_exporter": "python",
   "pygments_lexer": "ipython3",
   "version": "3.5.1"
  }
 },
 "nbformat": 4,
 "nbformat_minor": 0
}
