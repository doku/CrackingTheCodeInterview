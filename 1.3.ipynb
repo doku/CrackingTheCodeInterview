{
 "cells": [
  {
   "cell_type": "markdown",
   "metadata": {},
   "source": [
    "Design an algorithm and write code to remove the duplicate characters in a string\n",
    "without using any additional buffer NOTE: One or two additional variables are fine\n",
    "An extra copy of the array is not\n",
    "FOLLOW UP\n",
    "Write the test cases for this method"
   ]
  },
  {
   "cell_type": "code",
   "execution_count": 38,
   "metadata": {
    "collapsed": false
   },
   "outputs": [
    {
     "name": "stdout",
     "output_type": "stream",
     "text": [
      "lahsdf;j3regiukcv\n",
      "lahsdf;j3regiukcv\n",
      "asdlkgjhf;3reiucv\n",
      "asdlkgjhf;3reiucv\n",
      "roal;dkweifjgs\n",
      "roal;dkweifjgs\n",
      "asdgoierkjf;lw\n",
      "asdgoierkjf;lw\n"
     ]
    }
   ],
   "source": [
    "\n",
    "\n",
    "def removeDupes(s):\n",
    "    \"\"\" loops through the string for each charcter see if it matches with any of the remaining string\n",
    "        I removed the original rather then the dupes, which is wrong!\n",
    "    \"\"\"\n",
    "    result = \"\"\n",
    "    for i, x in enumerate(s):\n",
    "        for j in s[i+1:]:\n",
    "            if x == j:\n",
    "                break\n",
    "        else:\n",
    "            result += x\n",
    "    return result\n",
    "\n",
    "def removeDupes2(s):\n",
    "    \"\"\"\n",
    "    Same as version one except using more pythonic code\n",
    "    \"\"\"\n",
    "    result = \"\"\n",
    "    for i, x in enumerate(s):\n",
    "        if x not in s[i+1:]:\n",
    "            result += x\n",
    "    return result\n",
    "\n",
    "\"\"\" I think I've been removing the original instead of the duplicates.\"\"\"\n",
    "    \n",
    "import re # useing regular expression for this version\n",
    "def removeDupes3(s):\n",
    "    \"\"\"Does the string need to retain order?\n",
    "    How is the order retained? If I search from the right to match dupes, I would have different results\"\"\"\n",
    "    pos = 0\n",
    "    while len(s) > pos:\n",
    "        p = re.compile(s[pos])\n",
    "        s = s[:pos+1] + p.sub('', s[pos+1:])\n",
    "        #print(s)\n",
    "        pos += 1\n",
    "    return s\n",
    "    \n",
    "def removeDupes4(s):\n",
    "    \"\"\"\n",
    "    reverse direction. Fixed\n",
    "    \"\"\"\n",
    "    i = 0 # index for comparson\n",
    "    while i < len(s): # loop till end of len(s). using len(s) so that's the loop is dynamic\n",
    "        j = i+1 # j for the index that the character is comparing to\n",
    "        while j < len(s):\n",
    "            if s[i] == s[j]: # if the comparision matches, assign s without that chacter\n",
    "                s = s[:j] + s[j+1:]\n",
    "            else:\n",
    "                j += 1 #incrment j only if no match\n",
    "        i += 1\n",
    "    return s \n",
    "        \n",
    "def removeDupes5(s):\n",
    "    \"\"\"\n",
    "    I guess I'll have to manipulate index by hand. \n",
    "    \"\"\"\n",
    "    \n",
    "    \n",
    "    \n",
    "def tests():\n",
    "    string1 = \"asdlkgjhasdflaksjdg;lahsdf;kj3regiukcv\"\n",
    "    print(removeDupes(string1))\n",
    "    print(removeDupes2(string1))\n",
    "    print(removeDupes3(string1))\n",
    "    print(removeDupes4(string1))\n",
    "    string2 = \"asdgoierogadkjdjkdjkdjkdjdjdjddddddsfssssa;dfjsl;dkweifjgs\"\n",
    "    print(removeDupes(string2))\n",
    "    print(removeDupes2(string2))\n",
    "    print(removeDupes3(string2))\n",
    "    print(removeDupes4(string2))\n",
    "    \n",
    "tests()\n"
   ]
  },
  {
   "cell_type": "code",
   "execution_count": null,
   "metadata": {
    "collapsed": false
   },
   "outputs": [],
   "source": [
    "\n"
   ]
  },
  {
   "cell_type": "code",
   "execution_count": null,
   "metadata": {
    "collapsed": true
   },
   "outputs": [],
   "source": []
  }
 ],
 "metadata": {
  "kernelspec": {
   "display_name": "Python 3",
   "language": "python",
   "name": "python3"
  },
  "language_info": {
   "codemirror_mode": {
    "name": "ipython",
    "version": 3
   },
   "file_extension": ".py",
   "mimetype": "text/x-python",
   "name": "python",
   "nbconvert_exporter": "python",
   "pygments_lexer": "ipython3",
   "version": "3.5.1"
  }
 },
 "nbformat": 4,
 "nbformat_minor": 0
}
